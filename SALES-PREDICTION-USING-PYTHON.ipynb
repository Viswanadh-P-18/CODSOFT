{
 "cells": [
  {
   "cell_type": "markdown",
   "id": "6f9ad4ce",
   "metadata": {},
   "source": [
    "# Sales analysis"
   ]
  },
  {
   "cell_type": "code",
   "execution_count": 1,
   "id": "156b7e85",
   "metadata": {},
   "outputs": [],
   "source": [
    "import pandas as pd\n",
    "import numpy as np"
   ]
  },
  {
   "cell_type": "code",
   "execution_count": 2,
   "id": "25b4bbdc",
   "metadata": {},
   "outputs": [],
   "source": [
    "data=pd.read_csv(\"advertising.csv\")"
   ]
  },
  {
   "cell_type": "code",
   "execution_count": 3,
   "id": "d855699a",
   "metadata": {},
   "outputs": [
    {
     "data": {
      "text/html": [
       "<div>\n",
       "<style scoped>\n",
       "    .dataframe tbody tr th:only-of-type {\n",
       "        vertical-align: middle;\n",
       "    }\n",
       "\n",
       "    .dataframe tbody tr th {\n",
       "        vertical-align: top;\n",
       "    }\n",
       "\n",
       "    .dataframe thead th {\n",
       "        text-align: right;\n",
       "    }\n",
       "</style>\n",
       "<table border=\"1\" class=\"dataframe\">\n",
       "  <thead>\n",
       "    <tr style=\"text-align: right;\">\n",
       "      <th></th>\n",
       "      <th>TV</th>\n",
       "      <th>Radio</th>\n",
       "      <th>Newspaper</th>\n",
       "      <th>Sales</th>\n",
       "    </tr>\n",
       "  </thead>\n",
       "  <tbody>\n",
       "    <tr>\n",
       "      <th>0</th>\n",
       "      <td>230.1</td>\n",
       "      <td>37.8</td>\n",
       "      <td>69.2</td>\n",
       "      <td>22.1</td>\n",
       "    </tr>\n",
       "    <tr>\n",
       "      <th>1</th>\n",
       "      <td>44.5</td>\n",
       "      <td>39.3</td>\n",
       "      <td>45.1</td>\n",
       "      <td>10.4</td>\n",
       "    </tr>\n",
       "    <tr>\n",
       "      <th>2</th>\n",
       "      <td>17.2</td>\n",
       "      <td>45.9</td>\n",
       "      <td>69.3</td>\n",
       "      <td>12.0</td>\n",
       "    </tr>\n",
       "    <tr>\n",
       "      <th>3</th>\n",
       "      <td>151.5</td>\n",
       "      <td>41.3</td>\n",
       "      <td>58.5</td>\n",
       "      <td>16.5</td>\n",
       "    </tr>\n",
       "    <tr>\n",
       "      <th>4</th>\n",
       "      <td>180.8</td>\n",
       "      <td>10.8</td>\n",
       "      <td>58.4</td>\n",
       "      <td>17.9</td>\n",
       "    </tr>\n",
       "  </tbody>\n",
       "</table>\n",
       "</div>"
      ],
      "text/plain": [
       "      TV  Radio  Newspaper  Sales\n",
       "0  230.1   37.8       69.2   22.1\n",
       "1   44.5   39.3       45.1   10.4\n",
       "2   17.2   45.9       69.3   12.0\n",
       "3  151.5   41.3       58.5   16.5\n",
       "4  180.8   10.8       58.4   17.9"
      ]
     },
     "execution_count": 3,
     "metadata": {},
     "output_type": "execute_result"
    }
   ],
   "source": [
    "data.head(5)"
   ]
  },
  {
   "cell_type": "code",
   "execution_count": 4,
   "id": "52ce2f92",
   "metadata": {},
   "outputs": [
    {
     "name": "stderr",
     "output_type": "stream",
     "text": [
      "C:\\Users\\Hi\\anaconda3\\lib\\site-packages\\scipy\\__init__.py:155: UserWarning: A NumPy version >=1.18.5 and <1.25.0 is required for this version of SciPy (detected version 1.26.4\n",
      "  warnings.warn(f\"A NumPy version >={np_minversion} and <{np_maxversion}\"\n"
     ]
    }
   ],
   "source": [
    "import seaborn as sns"
   ]
  },
  {
   "cell_type": "code",
   "execution_count": 5,
   "id": "24145647",
   "metadata": {},
   "outputs": [],
   "source": [
    "c=data.corr()"
   ]
  },
  {
   "cell_type": "code",
   "execution_count": 6,
   "id": "a96c3dbd",
   "metadata": {},
   "outputs": [
    {
     "data": {
      "text/plain": [
       "<AxesSubplot:>"
      ]
     },
     "execution_count": 6,
     "metadata": {},
     "output_type": "execute_result"
    },
    {
     "data": {
      "image/png": "[encoded data removed]",
      "text/plain": [
       "<Figure size 640x480 with 2 Axes>"
      ]
     },
     "metadata": {},
     "output_type": "display_data"
    }
   ],
   "source": [
    "sns.heatmap(c,annot=True)"
   ]
  },
  {
   "cell_type": "markdown",
   "id": "582d48e5",
   "metadata": {},
   "source": [
    "This heatmap depicts the correlation between all the cariables in the dataset.\n",
    "All the independent variables are in positive correlation with Sales variable."
   ]
  },
  {
   "cell_type": "code",
   "execution_count": 7,
   "id": "303463c6",
   "metadata": {},
   "outputs": [],
   "source": [
    "import matplotlib.pyplot as plt"
   ]
  },
  {
   "cell_type": "code",
   "execution_count": 8,
   "id": "565cfd0c",
   "metadata": {},
   "outputs": [],
   "source": [
    "data.dropna(inplace=True)"
   ]
  },
  {
   "cell_type": "code",
   "execution_count": 9,
   "id": "7e3882fd",
   "metadata": {},
   "outputs": [],
   "source": [
    "data_y=data['Sales']"
   ]
  },
  {
   "cell_type": "code",
   "execution_count": 10,
   "id": "52c926c5",
   "metadata": {},
   "outputs": [],
   "source": [
    "data.drop(['Sales'],axis=1,inplace=True)"
   ]
  },
  {
   "cell_type": "code",
   "execution_count": 11,
   "id": "a508db0d",
   "metadata": {},
   "outputs": [],
   "source": [
    "from sklearn.linear_model import LinearRegression"
   ]
  },
  {
   "cell_type": "code",
   "execution_count": 12,
   "id": "cefc55da",
   "metadata": {},
   "outputs": [],
   "source": [
    "lr=LinearRegression()"
   ]
  },
  {
   "cell_type": "code",
   "execution_count": 15,
   "id": "afb04b12",
   "metadata": {},
   "outputs": [],
   "source": [
    "from sklearn.model_selection import train_test_split"
   ]
  },
  {
   "cell_type": "code",
   "execution_count": 16,
   "id": "0c781296",
   "metadata": {},
   "outputs": [],
   "source": [
    "x_train,x_test,y_train,y_test=train_test_split(data,data_y,test_size=0.3,random_state=41)"
   ]
  },
  {
   "cell_type": "code",
   "execution_count": 17,
   "id": "95c3f4e3",
   "metadata": {},
   "outputs": [
    {
     "data": {
      "text/plain": [
       "LinearRegression()"
      ]
     },
     "execution_count": 17,
     "metadata": {},
     "output_type": "execute_result"
    }
   ],
   "source": [
    "lr.fit(x_train,y_train)"
   ]
  },
  {
   "cell_type": "code",
   "execution_count": 18,
   "id": "51681bd4",
   "metadata": {},
   "outputs": [],
   "source": [
    "y_prediction=lr.predict(x_test)"
   ]
  },
  {
   "cell_type": "code",
   "execution_count": 23,
   "id": "ba9a72a5",
   "metadata": {},
   "outputs": [],
   "source": [
    "from sklearn.metrics import mean_squared_error"
   ]
  },
  {
   "cell_type": "code",
   "execution_count": 24,
   "id": "2a45b7eb",
   "metadata": {},
   "outputs": [
    {
     "name": "stdout",
     "output_type": "stream",
     "text": [
      "The mean squared error of the model is  2.681312113671713\n"
     ]
    }
   ],
   "source": [
    "print(\"The mean squared error of the model is \",mean_squared_error(y_test,y_prediction))"
   ]
  },
  {
   "cell_type": "markdown",
   "id": "a5984891",
   "metadata": {},
   "source": [
    "# PLOTTING THE BEST FIT LINE FROM LINEAR REGRESSION"
   ]
  },
  {
   "cell_type": "code",
   "execution_count": 29,
   "id": "a6b01802",
   "metadata": {},
   "outputs": [
    {
     "data": {
      "text/plain": [
       "[<matplotlib.lines.Line2D at 0x14cc12f6d90>]"
      ]
     },
     "execution_count": 29,
     "metadata": {},
     "output_type": "execute_result"
    },
    {
     "data": {
      "image/png": "[encoded data removed]",
      "text/plain": [
       "<Figure size 640x480 with 1 Axes>"
      ]
     },
     "metadata": {},
     "output_type": "display_data"
    }
   ],
   "source": [
    "plt.scatter(y_test,y_prediction)\n",
    "plt.plot(y_prediction,y_prediction,color=\"red\")"
   ]
  },
  {
   "cell_type": "markdown",
   "id": "be97af6d",
   "metadata": {},
   "source": [
    "# Automated function for predicting and plotting best fit line"
   ]
  },
  {
   "cell_type": "code",
   "execution_count": 39,
   "id": "1df96ac2",
   "metadata": {},
   "outputs": [],
   "source": [
    "def predict_sales(x,y,ml_model):\n",
    "    x_train,x_test,y_train,y_test=train_test_split(x,y,test_size=0.2)\n",
    "    ml_model.fit(x_train,y_train)\n",
    "    y_prediction=ml_model.predict(x_test)\n",
    "    print(\"the mean squared error is \",mean_squared_error(y_prediction,y_test))\n",
    "    plt.scatter(y_test,y_prediction,color=\"yellow\")\n",
    "    plt.plot(y_prediction,y_prediction,color=\"red\")\n",
    "    "
   ]
  },
  {
   "cell_type": "code",
   "execution_count": 40,
   "id": "98eb2a37",
   "metadata": {},
   "outputs": [
    {
     "name": "stdout",
     "output_type": "stream",
     "text": [
      "the mean squared error is  4.334534976908163\n"
     ]
    },
    {
     "data": {
      "image/png": "[encoded data removed]",
      "text/plain": [
       "<Figure size 640x480 with 1 Axes>"
      ]
     },
     "metadata": {},
     "output_type": "display_data"
    }
   ],
   "source": [
    "predict_sales(data,data_y,lr)"
   ]
  },
  {
   "cell_type": "code",
   "execution_count": 44,
   "id": "15a2f82e",
   "metadata": {},
   "outputs": [],
   "source": [
    "def predict_sales_for_input(radio,tv,newspaper):\n",
    "    res=[]\n",
    "    res.append(radio)\n",
    "    res.append(tv)\n",
    "    res.append(newspaper)\n",
    "    res_np=np.asarray(res)\n",
    "    res_np_reshape=res_np.reshape(1,-1)\n",
    "    sales=lr.predict(res_np_reshape)\n",
    "    print(\"The sales for given input\",sales)"
   ]
  },
  {
   "cell_type": "code",
   "execution_count": 45,
   "id": "f29aa511",
   "metadata": {},
   "outputs": [
    {
     "name": "stdout",
     "output_type": "stream",
     "text": [
      "The sales for given input [7.35112123]\n"
     ]
    },
    {
     "name": "stderr",
     "output_type": "stream",
     "text": [
      "C:\\Users\\Hi\\anaconda3\\lib\\site-packages\\sklearn\\base.py:450: UserWarning: X does not have valid feature names, but LinearRegression was fitted with feature names\n",
      "  warnings.warn(\n"
     ]
    }
   ],
   "source": [
    "predict_sales_for_input(10,20,30)"
   ]
  },
  {
   "cell_type": "markdown",
   "id": "0662e5fb",
   "metadata": {},
   "source": [
    "Hence the sales are predicted with linear_regression"
   ]
  },
  {
   "cell_type": "code",
   "execution_count": null,
   "id": "3b2d5a04",
   "metadata": {},
   "outputs": [],
   "source": []
  }
 ],
 "metadata": {
  "kernelspec": {
   "display_name": "Python 3 (ipykernel)",
   "language": "python",
   "name": "python3"
  },
  "language_info": {
   "codemirror_mode": {
    "name": "ipython",
    "version": 3
   },
   "file_extension": ".py",
   "mimetype": "text/x-python",
   "name": "python",
   "nbconvert_exporter": "python",
   "pygments_lexer": "ipython3",
   "version": "3.9.13"
  }
 },
 "nbformat": 4,
 "nbformat_minor": 5
}
